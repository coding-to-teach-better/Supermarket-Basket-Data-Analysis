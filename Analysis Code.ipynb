{
 "cells": [
  {
   "cell_type": "code",
   "execution_count": 4,
   "metadata": {},
   "outputs": [],
   "source": [
    "# connecting to mySQL and creating database if first execution\n",
    "\n",
    "import mysql.connector\n",
    "\n",
    "mydb = mysql.connector.connect(\n",
    "host=\"localhost\",\n",
    "user=\"root\",\n",
    "password=\"*********\")\n",
    "\n",
    "mycursor = mydb.cursor()\n",
    "\n",
    "mycursor.execute(\"SHOW DATABASES\")\n",
    "\n",
    "for x in mycursor:\n",
    "    exist = False\n",
    "    if x == \"supermarketdatabase\":\n",
    "        exist = True\n",
    "    \n",
    "if exist:\n",
    "    mycursor.execute(\"CREATE DATABASE mydatabase\")\n"
   ]
  },
  {
   "cell_type": "code",
   "execution_count": 5,
   "metadata": {},
   "outputs": [],
   "source": [
    "# connect to database in mySQL\n",
    "\n",
    "mydb = mysql.connector.connect(\n",
    "host=\"localhost\",\n",
    "user=\"root\",\n",
    "password=\"**********\",\n",
    "database=\"supermarketdatabase\")\n"
   ]
  },
  {
   "cell_type": "code",
   "execution_count": 6,
   "metadata": {},
   "outputs": [
    {
     "name": "stdout",
     "output_type": "stream",
     "text": [
      "df 0 is 50_SupermarketBranches.csv\n",
      "\n",
      "50_SupermarketBranches.csv shape is (50, 5)\n",
      "\n",
      "50_SupermarketBranches.csv columns are Index(['Advertisement Spend', 'Promotion Spend', 'Administration Spend',\n",
      "       'State', 'Profit'],\n",
      "      dtype='object')\n",
      "\n",
      "-------------------------------------------------------------------------------------\n",
      "df 1 is Ads_CTR_Optimisation.csv\n",
      "\n",
      "Ads_CTR_Optimisation.csv shape is (10000, 10)\n",
      "\n",
      "Ads_CTR_Optimisation.csv columns are Index(['Ad 1', 'Ad 2', 'Ad 3', 'Ad 4', 'Ad 5', 'Ad 6', 'Ad 7', 'Ad 8', 'Ad 9',\n",
      "       'Ad 10'],\n",
      "      dtype='object')\n",
      "\n",
      "-------------------------------------------------------------------------------------\n",
      "df 2 is Market_Basket_Optimisation.csv\n",
      "\n",
      "Market_Basket_Optimisation.csv shape is (7500, 20)\n",
      "\n",
      "Market_Basket_Optimisation.csv columns are Index(['shrimp', 'almonds', 'avocado', 'vegetables mix', 'green grapes',\n",
      "       'whole weat flour', 'yams', 'cottage cheese', 'energy drink',\n",
      "       'tomato juice', 'low fat yogurt', 'green tea', 'honey', 'salad',\n",
      "       'mineral water', 'salmon', 'antioxydant juice', 'frozen smoothie',\n",
      "       'spinach', 'olive oil'],\n",
      "      dtype='object')\n",
      "\n",
      "-------------------------------------------------------------------------------------\n",
      "df 3 is Supermarket_CustomerMembers.csv\n",
      "\n",
      "Supermarket_CustomerMembers.csv shape is (200, 5)\n",
      "\n",
      "Supermarket_CustomerMembers.csv columns are Index(['CustomerID', 'Genre', 'Age', 'Annual Income (k$)',\n",
      "       'Spending Score (1-100)'],\n",
      "      dtype='object')\n",
      "\n",
      "-------------------------------------------------------------------------------------\n"
     ]
    }
   ],
   "source": [
    "# importing csv files from directory\n",
    "\n",
    "import pandas as pd\n",
    "import os\n",
    "\n",
    "# function to segment text with more than whitespace\n",
    "def segment():\n",
    "    print(\"-------------------------------------------------------------------------------------\")\n",
    "\n",
    "\n",
    "dir_name = r\"directory path"\n",
    "df_list = []\n",
    "count = 0\n",
    "for file in os.listdir(dir_name):\n",
    "    print(\"df\", count, \"is\",file)\n",
    "    print()\n",
    "    # reading content into data frames\n",
    "    df = pd.read_csv(dir_name+\"\\\\\"+file, encoding = 'latin1')\n",
    "    df_list.append(df)\n",
    "    # exploring the shape and columns of each csv \n",
    "    print(file, \"shape is\", df.shape)\n",
    "    print()\n",
    "    print(file, \"columns are\", df.columns)\n",
    "    print()\n",
    "    segment()\n",
    "    count+=1    "
   ]
  },
  {
   "cell_type": "code",
   "execution_count": 7,
   "metadata": {},
   "outputs": [],
   "source": [
    "# error in data entry so replacing \" asparagus with asparagus\"\n",
    "\n",
    "df_list[2] = df_list[2].replace([\" asparagus\"], 'asparagus')\n",
    "\n",
    "# adding column names to basket data\n",
    "\n",
    "columnNames = []\n",
    "for c in range(len(df_list[2].columns)):\n",
    "               name = \"item\"+str(c)\n",
    "               columnNames.append(name)\n",
    "            \n",
    "nameChangeDict = dict(zip(df_list[2].columns, columnNames))\n",
    "               \n",
    "\n",
    "df_list[2] = df_list[2].rename(columns=nameChangeDict)\n",
    "\n",
    "# replacing NaNs with \"No item\"\n",
    "\n",
    "df_list[2] = df_list[2].fillna(\"No item\")\n",
    "\n",
    "# finding the unique items so that prices can be attached \n",
    "\n",
    "items = []\n",
    "\n",
    "for column in df_list[2].columns:\n",
    "    for item in df_list[2][column].unique():\n",
    "        items.append(item)\n",
    "\n",
    "items = list(set(items))\n",
    "\n",
    "# removing nan \n",
    "\n",
    "del items[0:2]\n",
    "\n",
    "# creating list of random prices \n",
    "\n",
    "import random\n",
    "\n",
    "randomPrices = []\n",
    "\n",
    "for i in range(len(items)):\n",
    "    # any random float between 50.50 to 500.50\n",
    "    # don't use round() if you need number as it is\n",
    "    x = round(random.uniform(0.00, 5.00), 2)\n",
    "    randomPrices.append(x)\n",
    "\n",
    "# create a df from prices and items \n",
    "\n",
    "priceItemDf = pd.DataFrame({\"Item\" : items, \"Price\" : randomPrices})\n",
    "\n",
    "# appending the df to df_list \n",
    "\n",
    "df_list.append(priceItemDf)"
   ]
  },
  {
   "cell_type": "code",
   "execution_count": 8,
   "metadata": {},
   "outputs": [],
   "source": [
    "# calculating volumes and adding to df list\n",
    "\n",
    "volumes = []\n",
    "volume = 0\n",
    "for item in df_list[4][\"Item\"]:\n",
    "    for column in df_list[2].columns:\n",
    "        try:\n",
    "            volume = volume + df_list[2][column].value_counts()[item]\n",
    "        except:\n",
    "            continue\n",
    "    volumes.append(volume)\n",
    "    volume = 0\n",
    "\n",
    "    \n",
    "zipped = list(zip(df_list[4][\"Item\"], volumes))\n",
    "    \n",
    "df_list.append(pd.DataFrame(zipped, columns = [\"Items\",\"Volumes\"]))"
   ]
  },
  {
   "cell_type": "code",
   "execution_count": 9,
   "metadata": {},
   "outputs": [],
   "source": [
    "# create string for executing create MySQL table \n",
    "\n",
    "def createTableString(df):\n",
    "    name = input(\"Enter username:\")\n",
    "    columns = \"\"\n",
    "    count = 0\n",
    "    for column in df.columns:\n",
    "        typ = type(df[column].iloc[0])\n",
    "        if column == df.columns[-1]:\n",
    "            if typ == str:\n",
    "                columns = columns + column + \" varchar(255)\"\n",
    "            else:\n",
    "                if typ == int:\n",
    "                     columns = columns + column + \" \" + \"int\"\n",
    "                if typ == float or complex:\n",
    "                     columns = columns + column + \" \" + \"float\"\n",
    "        else:\n",
    "            if typ == str:\n",
    "                columns = columns + column + \" varchar(255)\"+\", \"\n",
    "            else:\n",
    "                if typ == int:\n",
    "                     columns = columns + column + \" \" + \"int\"\n",
    "                if typ == float or complex:\n",
    "                     columns = columns + column + \" \" + \"float\"\n",
    "    start = \"CREATE TABLE {tableName} \".format(tableName = name)\n",
    "    columns = start + \"(\" + columns + \");\"\n",
    "    return name, columns\n",
    "    \n",
    "    \n",
    "\n"
   ]
  },
  {
   "cell_type": "code",
   "execution_count": 10,
   "metadata": {},
   "outputs": [],
   "source": [
    "# create table in MySQL database \n",
    "\n",
    "def createTable(tryName, tableString):\n",
    "    mycursor = mydb.cursor()\n",
    "    mycursor.execute('DROP TABLE IF EXISTS {name};'.format(name = tryName))\n",
    "    mycursor.execute(tableString)\n",
    "\n"
   ]
  },
  {
   "cell_type": "code",
   "execution_count": 11,
   "metadata": {},
   "outputs": [],
   "source": [
    "# automate creating string for entering values into MySQL table\n",
    "\n",
    "def createValueString(df):\n",
    "    valueString = \"\"\n",
    "    for i in range((len(df.iloc[0]))):\n",
    "        valueString = valueString + \"%s\"+\",\"\n",
    "    return valueString[0:-1]\n",
    "\n",
    "\n"
   ]
  },
  {
   "cell_type": "code",
   "execution_count": 12,
   "metadata": {},
   "outputs": [],
   "source": [
    "# insert data into MySQL table\n",
    "\n",
    "def insertData(df, databaseName,tableName,valueString):\n",
    "    count = 0\n",
    "    mycursor = mydb.cursor()\n",
    "    for i,row in df.iterrows():\n",
    "        #here %S means string values \n",
    "        sql = \"INSERT INTO \"+databaseName+\".\"+tableName+\" VALUES(\"+valueString+\")\"\n",
    "        mycursor.execute(sql, tuple(row))\n",
    "        # this line saves changes\n",
    "        mydb.commit()\n",
    "        \n"
   ]
  },
  {
   "cell_type": "code",
   "execution_count": 13,
   "metadata": {},
   "outputs": [
    {
     "name": "stdout",
     "output_type": "stream",
     "text": [
      "Enter username:basketTable\n"
     ]
    }
   ],
   "source": [
    "# importing basket data into mySQL\n",
    "\n",
    "\n",
    "name1, df2String = createTableString(df_list[2])\n",
    "createTable(name1, df2String)\n",
    "valueString1 = createValueString(df_list[2])\n",
    "insertData(df_list[2],\"supermarketdatabase\",name1,valueString1)"
   ]
  },
  {
   "cell_type": "code",
   "execution_count": 14,
   "metadata": {},
   "outputs": [
    {
     "name": "stdout",
     "output_type": "stream",
     "text": [
      "Enter username:priceTable\n"
     ]
    }
   ],
   "source": [
    "# importing price data into mySQL\n",
    "\n",
    "\n",
    "name2, df4String = createTableString(df_list[4])\n",
    "createTable(name2, df4String)\n",
    "valueString2 = createValueString(df_list[4])\n",
    "insertData(df_list[4],\"supermarketdatabase\",name2,valueString2)"
   ]
  },
  {
   "cell_type": "code",
   "execution_count": 15,
   "metadata": {},
   "outputs": [
    {
     "name": "stdout",
     "output_type": "stream",
     "text": [
      "Enter username:volumeTable\n"
     ]
    }
   ],
   "source": [
    "# importing volumes into mySQL\n",
    "\n",
    "name3, df5String = createTableString(df_list[5])\n",
    "createTable(name3, df5String)\n",
    "valueString3 = createValueString(df_list[5])\n",
    "insertData(df_list[5],\"supermarketdatabase\",name3,valueString3)\n"
   ]
  },
  {
   "cell_type": "code",
   "execution_count": 23,
   "metadata": {},
   "outputs": [],
   "source": [
    "# method to remove some of the mySQL typing\n",
    "\n",
    "def executeQuery(query, get = False):\n",
    "    mycursor = mydb.cursor()\n",
    "    query = query+\";\"\n",
    "    mycursor.execute(query)\n",
    "    myresult = mycursor.fetchall()\n",
    "    # optional variable to return result to python space\n",
    "    if get == True:\n",
    "        myresultList = [item for t in myresult for item in t]\n",
    "        return myresultList\n",
    "\n"
   ]
  },
  {
   "cell_type": "code",
   "execution_count": 24,
   "metadata": {},
   "outputs": [],
   "source": [
    "# executing WHERE and AND LIKE\n",
    "\n",
    "executeQuery(\"\"\"Select Item FROM priceTable \n",
    "Where Price > 2 \n",
    "AND Item LIKE '%ead'\"\"\")"
   ]
  },
  {
   "cell_type": "code",
   "execution_count": 26,
   "metadata": {},
   "outputs": [],
   "source": [
    "# executing ORDER BY, LIMIT\n",
    "\n",
    "executeQuery(\"\"\"Select item \n",
    "FROM priceTable \n",
    "Where Price < 1.5 \n",
    "ORDER BY Price DESC LIMIT 5\"\"\")\n"
   ]
  },
  {
   "cell_type": "code",
   "execution_count": 27,
   "metadata": {},
   "outputs": [],
   "source": [
    "# executing MAX() MIN() LIKE\n",
    "\n",
    "executeQuery(\"Select MAX(Item), Price FROM priceTable\")\n",
    "executeQuery(\"Select MIN(Item), Price FROM priceTable\")"
   ]
  },
  {
   "cell_type": "code",
   "execution_count": 20,
   "metadata": {},
   "outputs": [],
   "source": [
    "# getting item, volume of purchases and price by joining volume table and price table\n",
    "\n",
    "executeQuery(\"\"\"Select volumeTable.Items, volumeTable.Volumes, priceTable.Price \n",
    "FROM volumeTable \n",
    "INNER JOIN priceTable \n",
    "ON volumeTable.Items = priceTable.Item \n",
    "ORDER BY Items\"\"\")\n"
   ]
  },
  {
   "cell_type": "code",
   "execution_count": 21,
   "metadata": {},
   "outputs": [],
   "source": [
    "# finding how many items have a price greater than four pound and a larger basket volume than 100\n",
    "\n",
    "executeQuery(\"\"\"Select COUNT(items) \n",
    "FROM priceTable\n",
    "INNER JOIN volumeTable\n",
    "ON volumeTable.Items = priceTable.Item\n",
    "WHERE priceTable.Price > 4 AND volumeTable.Volumes > 100\n",
    "ORDER BY Items\"\"\")"
   ]
  },
  {
   "cell_type": "code",
   "execution_count": 22,
   "metadata": {},
   "outputs": [],
   "source": [
    "# creating price catagories and counting the number of items and total volumes in each price catagory \n",
    "\n",
    "executeQuery(\"\"\"\n",
    "SELECT \n",
    "    COUNT(items), \n",
    "    SUM(Volumes),\n",
    "    CASE \n",
    "        WHEN Price < 1.50 THEN 'Affordable'\n",
    "        WHEN Price > 1.50 AND Price < 3 THEN 'Mid-range'\n",
    "        ELSE 'Expensive'\n",
    "    END AS PriceCatagory\n",
    "FROM priceTable\n",
    "INNER JOIN volumeTable\n",
    "ON volumeTable.Items = priceTable.Item\n",
    "GROUP BY PriceCatagory\n",
    "ORDER BY Volumes ASC\"\"\")\n"
   ]
  }
 ],
 "metadata": {
  "kernelspec": {
   "display_name": "Python 3",
   "language": "python",
   "name": "python3"
  },
  "language_info": {
   "codemirror_mode": {
    "name": "ipython",
    "version": 3
   },
   "file_extension": ".py",
   "mimetype": "text/x-python",
   "name": "python",
   "nbconvert_exporter": "python",
   "pygments_lexer": "ipython3",
   "version": "3.8.5"
  }
 },
 "nbformat": 4,
 "nbformat_minor": 4
}
